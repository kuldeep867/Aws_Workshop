{
 "cells": [
  {
   "cell_type": "markdown",
   "id": "40842722",
   "metadata": {},
   "source": [
    "# \"We used this command to install Mediapipe library\""
   ]
  },
  {
   "cell_type": "code",
   "execution_count": 1,
   "id": "8327f505",
   "metadata": {},
   "outputs": [
    {
     "name": "stdout",
     "output_type": "stream",
     "text": [
      "Requirement already satisfied: mediapipe in c:\\users\\91998\\anaconda3\\lib\\site-packages (0.9.3.0)\n",
      "Requirement already satisfied: sounddevice>=0.4.4 in c:\\users\\91998\\anaconda3\\lib\\site-packages (from mediapipe) (0.4.6)\n",
      "Requirement already satisfied: flatbuffers>=2.0 in c:\\users\\91998\\anaconda3\\lib\\site-packages (from mediapipe) (23.3.3)\n",
      "Requirement already satisfied: absl-py in c:\\users\\91998\\anaconda3\\lib\\site-packages (from mediapipe) (1.1.0)\n",
      "Requirement already satisfied: matplotlib in c:\\users\\91998\\anaconda3\\lib\\site-packages (from mediapipe) (3.5.1)\n",
      "Requirement already satisfied: attrs>=19.1.0 in c:\\users\\91998\\anaconda3\\lib\\site-packages (from mediapipe) (21.4.0)\n",
      "Requirement already satisfied: opencv-contrib-python in c:\\users\\91998\\anaconda3\\lib\\site-packages (from mediapipe) (4.7.0.72)\n",
      "Requirement already satisfied: numpy in c:\\users\\91998\\anaconda3\\lib\\site-packages (from mediapipe) (1.21.5)\n",
      "Requirement already satisfied: protobuf<4,>=3.11 in c:\\users\\91998\\anaconda3\\lib\\site-packages (from mediapipe) (3.19.1)\n",
      "Requirement already satisfied: CFFI>=1.0 in c:\\users\\91998\\anaconda3\\lib\\site-packages (from sounddevice>=0.4.4->mediapipe) (1.15.0)\n",
      "Requirement already satisfied: pycparser in c:\\users\\91998\\anaconda3\\lib\\site-packages (from CFFI>=1.0->sounddevice>=0.4.4->mediapipe) (2.21)\n",
      "Requirement already satisfied: kiwisolver>=1.0.1 in c:\\users\\91998\\anaconda3\\lib\\site-packages (from matplotlib->mediapipe) (1.3.2)\n",
      "Requirement already satisfied: fonttools>=4.22.0 in c:\\users\\91998\\anaconda3\\lib\\site-packages (from matplotlib->mediapipe) (4.25.0)\n",
      "Requirement already satisfied: pillow>=6.2.0 in c:\\users\\91998\\anaconda3\\lib\\site-packages (from matplotlib->mediapipe) (9.0.1)\n",
      "Requirement already satisfied: pyparsing>=2.2.1 in c:\\users\\91998\\anaconda3\\lib\\site-packages (from matplotlib->mediapipe) (3.0.4)\n",
      "Requirement already satisfied: cycler>=0.10 in c:\\users\\91998\\anaconda3\\lib\\site-packages (from matplotlib->mediapipe) (0.11.0)\n",
      "Requirement already satisfied: python-dateutil>=2.7 in c:\\users\\91998\\anaconda3\\lib\\site-packages (from matplotlib->mediapipe) (2.8.2)\n",
      "Requirement already satisfied: packaging>=20.0 in c:\\users\\91998\\anaconda3\\lib\\site-packages (from matplotlib->mediapipe) (21.3)\n",
      "Requirement already satisfied: six>=1.5 in c:\\users\\91998\\anaconda3\\lib\\site-packages (from python-dateutil>=2.7->matplotlib->mediapipe) (1.16.0)\n"
     ]
    }
   ],
   "source": [
    "!pip install mediapipe"
   ]
  },
  {
   "cell_type": "markdown",
   "id": "dae38fa5",
   "metadata": {},
   "source": [
    "### Here We are importing a Function called HandDetector from CVZONE"
   ]
  },
  {
   "cell_type": "code",
   "execution_count": 2,
   "id": "0f428157",
   "metadata": {},
   "outputs": [],
   "source": [
    "#Here We are importing a Function called HandDetector from CVZONE\n",
    "from  cvzone.HandTrackingModule import HandDetector\n"
   ]
  },
  {
   "cell_type": "markdown",
   "id": "780561c0",
   "metadata": {},
   "source": [
    "### Here we are creating a object and passing the parameter"
   ]
  },
  {
   "cell_type": "code",
   "execution_count": 3,
   "id": "495168e9",
   "metadata": {},
   "outputs": [],
   "source": [
    "#Here we are creating a object and passing the parameter\n",
    "detactor=HandDetector(maxHands=2,detectionCon=0.8)"
   ]
  },
  {
   "cell_type": "code",
   "execution_count": 4,
   "id": "3e945fd2",
   "metadata": {},
   "outputs": [],
   "source": [
    "import cv2"
   ]
  },
  {
   "cell_type": "code",
   "execution_count": 5,
   "id": "4ea7f2f6",
   "metadata": {},
   "outputs": [],
   "source": [
    "# Capture video from the camera\n",
    "cap=cv2.VideoCapture(0)"
   ]
  },
  {
   "cell_type": "markdown",
   "id": "94ad9848",
   "metadata": {},
   "source": [
    "## Here We Creating a Live Hand Traking Code"
   ]
  },
  {
   "cell_type": "code",
   "execution_count": 6,
   "id": "67abe153",
   "metadata": {},
   "outputs": [],
   "source": [
    "while True:\n",
    "    # Read the current frame\n",
    "    ret,photo=cap.read()\n",
    "    # Creating a Object\n",
    "    hand=detactor.findHands(photo,draw=False)\n",
    "    # We are setting some condition if we have hand or not in the image\n",
    "    if hand != []:\n",
    "        # We Write a condition for detecting the hand or not.\n",
    "        finger=hand[0]\n",
    "        # Here we detect the fingur.\n",
    "        fingure_up=detactor.fingersUp(finger)\n",
    "        # Here we are printing the fingure how much we have in up position.\n",
    "        print(fingure_up)\n",
    "    cv2.imshow('ddd',photo)\n",
    "    if cv2.waitKey(1)==13:\n",
    "        break\n",
    "        \n",
    "cv2.destroyAllWindows()"
   ]
  },
  {
   "cell_type": "code",
   "execution_count": 7,
   "id": "0af75b20",
   "metadata": {},
   "outputs": [
    {
     "data": {
      "text/plain": [
       "'\\nfinger_in_photo=detactor.findHands(photo,draw=False)\\nlist_of_finger=finger_in_photo[0]\\ndetector.fingersUp(list_of_fingur)\\n'"
      ]
     },
     "execution_count": 7,
     "metadata": {},
     "output_type": "execute_result"
    }
   ],
   "source": [
    "\"\"\"\n",
    "finger_in_photo=detactor.findHands(photo,draw=False)\n",
    "list_of_finger=finger_in_photo[0]\n",
    "detector.fingersUp(list_of_fingur)\n",
    "\"\"\""
   ]
  },
  {
   "cell_type": "code",
   "execution_count": 8,
   "id": "2f926240",
   "metadata": {},
   "outputs": [],
   "source": [
    "ret,photo=cap.read()\n",
    "cv2.imshow('rr',photo)\n",
    "#cv2.imshow('ee0',photo)\n",
    "cv2.waitKey()\n",
    "cv2.destroyAllWindows()"
   ]
  },
  {
   "cell_type": "code",
   "execution_count": 9,
   "id": "d13f59b1",
   "metadata": {},
   "outputs": [],
   "source": [
    "hand=detactor.findHands(photo,draw=False)\n",
    "if hand:\n",
    "    lmlist=hand[0]\n",
    "    print(detactor.fingersUp(lmlist))\n",
    "    finger=detactor.fingersUp(lmlist)\n",
    "    if finger == [0,1,0,0,0]:\n",
    "        print(\"Only 1 Finger up\")\n",
    "    elif finger == [0,1,1,0,0]:\n",
    "        print(\"Only 2 Finger up\") \n",
    "    elif finger == [0,1,1,1,0]:\n",
    "        print(\"Only 3 Finger up\") \n",
    "    elif finger == [0,1,1,1,1]:\n",
    "        print(\"Only 4 Finger up\") \n",
    "    elif finger == [1,1,1,1,1]:\n",
    "        print(\"All Finger up\") \n",
    "        "
   ]
  },
  {
   "cell_type": "markdown",
   "id": "76f28234",
   "metadata": {},
   "source": [
    "### Live Finger Counting Code"
   ]
  },
  {
   "cell_type": "markdown",
   "id": "625dbe2a",
   "metadata": {},
   "source": [
    "#Installing boto3 Library TO Connect Python with aws "
   ]
  },
  {
   "cell_type": "code",
   "execution_count": 10,
   "id": "47aebcd8",
   "metadata": {},
   "outputs": [
    {
     "name": "stdout",
     "output_type": "stream",
     "text": [
      "Requirement already satisfied: boto3 in c:\\users\\91998\\anaconda3\\lib\\site-packages (1.21.32)\n",
      "Requirement already satisfied: botocore<1.25.0,>=1.24.32 in c:\\users\\91998\\anaconda3\\lib\\site-packages (from boto3) (1.24.32)\n",
      "Requirement already satisfied: jmespath<2.0.0,>=0.7.1 in c:\\users\\91998\\anaconda3\\lib\\site-packages (from boto3) (0.10.0)\n",
      "Requirement already satisfied: s3transfer<0.6.0,>=0.5.0 in c:\\users\\91998\\anaconda3\\lib\\site-packages (from boto3) (0.5.0)\n",
      "Requirement already satisfied: urllib3<1.27,>=1.25.4 in c:\\users\\91998\\anaconda3\\lib\\site-packages (from botocore<1.25.0,>=1.24.32->boto3) (1.26.9)\n",
      "Requirement already satisfied: python-dateutil<3.0.0,>=2.1 in c:\\users\\91998\\anaconda3\\lib\\site-packages (from botocore<1.25.0,>=1.24.32->boto3) (2.8.2)\n",
      "Requirement already satisfied: six>=1.5 in c:\\users\\91998\\anaconda3\\lib\\site-packages (from python-dateutil<3.0.0,>=2.1->botocore<1.25.0,>=1.24.32->boto3) (1.16.0)\n"
     ]
    }
   ],
   "source": [
    "!pip install boto3"
   ]
  },
  {
   "cell_type": "code",
   "execution_count": 11,
   "id": "1383b2ab",
   "metadata": {},
   "outputs": [],
   "source": [
    "import boto3\n",
    "ec2_resource = boto3.resource('ec2')"
   ]
  },
  {
   "cell_type": "code",
   "execution_count": 12,
   "id": "1c43e803",
   "metadata": {},
   "outputs": [],
   "source": [
    "def os_remove():\n",
    "    osdelete=allos.pop()\n",
    "    ec2_resource.instances.filter(InstanceIds=[osdelete]).terminate()\n",
    "    "
   ]
  },
  {
   "cell_type": "code",
   "execution_count": 13,
   "id": "145d3f95",
   "metadata": {},
   "outputs": [],
   "source": [
    "allos=[]"
   ]
  },
  {
   "cell_type": "code",
   "execution_count": 14,
   "id": "adf10e09",
   "metadata": {},
   "outputs": [],
   "source": [
    "def ec2_function():\n",
    "    instance = ec2_resource.create_instances(\n",
    "            ImageId='ami-0a2acf24c0d86e927',  # Replace with the desired Amazon Machine Image (AMI) ID\n",
    "            InstanceType='t2.micro',  # Replace with the desired instance type\n",
    "            MinCount=1,\n",
    "            MaxCount=1,\n",
    "            SecurityGroupIds=['sg-0674107e148e9aa7d']  # Replace with the name of your key pair\n",
    "        )\n",
    "    myid=instance[0].id\n",
    "    allos.append(myid)\n",
    "    print(allos)\n",
    "    print('Total OS' , len(allos))"
   ]
  },
  {
   "cell_type": "code",
   "execution_count": 15,
   "id": "b4bc45b9",
   "metadata": {},
   "outputs": [],
   "source": [
    "while True:\n",
    "    ret,photo=cap.read()\n",
    "    hand=detactor.findHands(photo,draw=False)\n",
    "    if hand != []:\n",
    "        finger=hand[0]\n",
    "        fingure_up=detactor.fingersUp(finger)\n",
    "        print(fingure_up)\n",
    "        if fingure_up == [0,1,0,0,0]:\n",
    "            print(\"Only 1 Finger up\")\n",
    "        elif finger == [0,1,1,0,0]:\n",
    "            print(\"Only 2 Finger up\") \n",
    "            ec2_function()\n",
    "        elif finger == [0,1,1,1,0]:\n",
    "            print(\"Only 3 Finger up\") \n",
    "        elif finger == [0,1,1,1,1]:\n",
    "            print(\"Only 4 Finger up\") \n",
    "        elif finger == [1,1,1,1,1]:\n",
    "            print(\"All Finger up\")        \n",
    "    cv2.imshow('ddd',photo)\n",
    "    if cv2.waitKey(1)==13:\n",
    "        break\n",
    "        \n",
    "cv2.destroyAllWindows()"
   ]
  },
  {
   "cell_type": "markdown",
   "id": "1805c841",
   "metadata": {},
   "source": [
    "### Code for connecting with aws with the help of python Ai"
   ]
  },
  {
   "cell_type": "markdown",
   "id": "a902a16f",
   "metadata": {},
   "source": [
    "#This code represents a while loop that continuously captures frames from a video feed using a camera, processes the frames to detect hands, and performs different actions based on the number of fingers detected."
   ]
  },
  {
   "cell_type": "code",
   "execution_count": 17,
   "id": "f5c8a537",
   "metadata": {},
   "outputs": [],
   "source": [
    "#while True:\n",
    "#    ret, photo = cap.read()\n"
   ]
  },
  {
   "cell_type": "markdown",
   "id": "13ac2be5",
   "metadata": {},
   "source": [
    "This line captures a frame from the video feed using the cap object (presumably initialized as a video capture object). The captured frame is stored in the photo variable. The ret variable indicates whether the frame was successfully read."
   ]
  },
  {
   "cell_type": "code",
   "execution_count": 18,
   "id": "7b9d9d06",
   "metadata": {},
   "outputs": [],
   "source": [
    "#hand = detactor.findHands(photo, draw=False)"
   ]
  },
  {
   "cell_type": "markdown",
   "id": "d598fb66",
   "metadata": {},
   "source": [
    "This line detects hands in the captured frame using the findHands function from the detactor object. The draw=False argument suggests that the function should not draw any visualizations on the frame."
   ]
  },
  {
   "cell_type": "code",
   "execution_count": 19,
   "id": "d40dabce",
   "metadata": {},
   "outputs": [],
   "source": [
    "    #if hand != []:\n",
    "    #   finger = hand[0]\n",
    "    #  fingure_up = detactor.fingersUp(finger)\n"
   ]
  },
  {
   "cell_type": "markdown",
   "id": "a4311af0",
   "metadata": {},
   "source": [
    "This block of code checks if at least one hand is detected in the frame. If a hand is detected, the code assumes the first detected hand is of interest (finger = hand[0]). The fingersUp function from the detactor object is then called to determine which fingers are raised. The result is stored in the fingure_up variable."
   ]
  },
  {
   "cell_type": "code",
   "execution_count": 20,
   "id": "957c4a03",
   "metadata": {},
   "outputs": [],
   "source": [
    "#if fingure_up == [0, 1, 0, 0, 0]:\n",
    "#    print(\"Only 1 Finger up\")\n",
    "#    os_remove()\n"
   ]
  },
  {
   "cell_type": "markdown",
   "id": "d0871233",
   "metadata": {},
   "source": [
    "If the fingers detected match the pattern [0, 1, 0, 0, 0], which represents one finger raised, the code prints \"Only 1 Finger up\" and calls the os_remove() function."
   ]
  },
  {
   "cell_type": "code",
   "execution_count": 21,
   "id": "2d5691a8",
   "metadata": {},
   "outputs": [],
   "source": [
    "#elif fingure_up == [0, 1, 1, 0, 0]:\n",
    "#    print(\"Only 2 Finger up\")\n",
    "#    ec2_function()\n"
   ]
  },
  {
   "cell_type": "markdown",
   "id": "483ab279",
   "metadata": {},
   "source": [
    "If the fingers detected match the pattern [0, 1, 1, 0, 0], which represents two fingers raised, the code prints \"Only 2 Finger up\" and calls the ec2_function()"
   ]
  },
  {
   "cell_type": "code",
   "execution_count": null,
   "id": "783b11e4",
   "metadata": {},
   "outputs": [],
   "source": []
  },
  {
   "cell_type": "code",
   "execution_count": 26,
   "id": "bee09378",
   "metadata": {},
   "outputs": [
    {
     "name": "stdout",
     "output_type": "stream",
     "text": [
      "Only 2 Finger up\n",
      "['i-0ad62036a45c07c8d', 'i-0f3491429e961ec95', 'i-0d7a3ca0348e236ce', 'i-0042ab26cbd3106b0']\n",
      "Total OS 4\n"
     ]
    }
   ],
   "source": [
    "\n",
    "while True:\n",
    "    ret,photo=cap.read()\n",
    "    hand=detactor.findHands(photo,draw=False)\n",
    "    if hand != []:\n",
    "        finger=hand[0]\n",
    "        fingure_up=detactor.fingersUp(finger)\n",
    "        #print(fingure_up)\n",
    "        if fingure_up == [0,1,0,0,0]:\n",
    "            print(\"Only 1 Finger up\")\n",
    "            os_remove()\n",
    "        elif fingure_up == [0,1,1,0,0]:\n",
    "            print(\"Only 2 Finger up\") \n",
    "            ec2_function()\n",
    "            \n",
    "    cv2.imshow('ddd',photo)\n",
    "    if cv2.waitKey(10)==13:\n",
    "        break\n",
    "        \n",
    "cv2.destroyAllWindows()"
   ]
  },
  {
   "cell_type": "markdown",
   "id": "fa76c29e",
   "metadata": {},
   "source": [
    "### Here We are removing the instance With the help of ID's"
   ]
  },
  {
   "cell_type": "code",
   "execution_count": null,
   "id": "9abc2dd1",
   "metadata": {},
   "outputs": [],
   "source": [
    "while True:\n",
    "    ret,photo=cap.read()\n",
    "    hand=detactor.findHands(photo,draw=False)\n",
    "    if hand != []:\n",
    "        finger=hand[0]\n",
    "        fingure_up=detactor.fingersUp(finger)\n",
    "        #print(fingure_up)\n",
    "        if fingure_up == [0,1,0,0,0]:\n",
    "            print(\"Only 1 Finger up\")\n",
    "        elif fingure_up == [0,1,1,0,0]:\n",
    "            print(\"Only 2 Finger up\") \n",
    "            ec2_function()\n",
    "        elif fingure_up == [0,1,1,1,0]:\n",
    "            os_remove()\n",
    "            \n",
    "    cv2.imshow('ddd',photo)\n",
    "    if cv2.waitKey(1)==13:\n",
    "        break\n",
    "        \n",
    "cv2.destroyAllWindows()"
   ]
  }
 ],
 "metadata": {
  "kernelspec": {
   "display_name": "Python 3 (ipykernel)",
   "language": "python",
   "name": "python3"
  },
  "language_info": {
   "codemirror_mode": {
    "name": "ipython",
    "version": 3
   },
   "file_extension": ".py",
   "mimetype": "text/x-python",
   "name": "python",
   "nbconvert_exporter": "python",
   "pygments_lexer": "ipython3",
   "version": "3.9.12"
  }
 },
 "nbformat": 4,
 "nbformat_minor": 5
}
